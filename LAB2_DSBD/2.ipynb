{
  "nbformat": 4,
  "nbformat_minor": 0,
  "metadata": {
    "colab": {
      "provenance": [],
      "collapsed_sections": []
    },
    "kernelspec": {
      "name": "python3",
      "display_name": "Python 3"
    },
    "language_info": {
      "name": "python"
    }
  },
  "cells": [
    {
      "cell_type": "markdown",
      "source": [
        "●\tВиконайте дослідження domain experience стосовно американського ринку нерухомості. Ознайомтесь з декількома прикладами аналітичних продуктів від топових гравців на американському ринку, направлених на інвесторів. Питання, які потрібно опрацювати:\n",
        "a.\tЯк топові компанії на ринку складають звіти по нерухомості?\n",
        "Приклад звіту: https://fiu.gov.ua/assets/userfiles/books/6_sektor_ozinka_zvit.pdf Вони намагаються максимально зрозуміло описати дані, які назбирали, ділять за розділами, немалу увагу приділяють графічному оформленню.\n",
        "b.\tЯкі графіки використовуються для донесення інформації?\n",
        "Приклад графіків наведені за посиланням\n",
        "Не використовують громіздких таблиць для представлення даних, а обробляють їх в Excel.\n",
        "c.\tЯкі співвідношення між якими даними по ринку є показовими для інвесторів / керівників агенцій нерухомості?\n",
        "Є графіки інвестиційних надходжень по минулим рокам, якщо інвестори бачать зростання, то це означає про ріст довіри до компанії і збільшення інвестицій\n",
        "d.\tЯка термінологія використовується для опису закономірностей на ринку нерухомості?\n",
        "Економічна термінологія.\n"
      ],
      "metadata": {
        "id": "fw08op1xmb0u"
      }
    },
    {
      "cell_type": "markdown",
      "source": [
        "●\tЗавантажити файли з даними у папку проекту з посилання:\n",
        "https://www1.nyc.gov/site/finance/taxes/property-rolling-sales-data.page\n",
        "Обираємо дані Queens\n",
        "Видалимо зайві перші строки з описом та переведемо файл у формат .csv для зручності роботи з ним."
      ],
      "metadata": {
        "id": "XptFInwFn1gR"
      }
    },
    {
      "cell_type": "code",
      "execution_count": 2,
      "metadata": {
        "colab": {
          "base_uri": "https://localhost:8080/"
        },
        "id": "yYiw-a54lx11",
        "outputId": "8b22f705-99a4-4b53-e6af-36f320d282b4"
      },
      "outputs": [
        {
          "output_type": "stream",
          "name": "stdout",
          "text": [
            "   BOROUGH        NEIGHBORHOOD  BUILDING CLASS CATEGORY TAX CLASS AT PRESENT  \\\n",
            "0        4  AIRPORT LA GUARDIA  01 ONE FAMILY DWELLINGS                    1   \n",
            "1        4  AIRPORT LA GUARDIA  01 ONE FAMILY DWELLINGS                    1   \n",
            "2        4  AIRPORT LA GUARDIA  01 ONE FAMILY DWELLINGS                    1   \n",
            "3        4  AIRPORT LA GUARDIA  01 ONE FAMILY DWELLINGS                    1   \n",
            "4        4  AIRPORT LA GUARDIA  01 ONE FAMILY DWELLINGS                    1   \n",
            "\n",
            "   BLOCK  LOT  EASEMENT BUILDING CLASS AT PRESENT            ADDRESS  \\\n",
            "0    949   30       NaN                        A5   19-40 81ST SREET   \n",
            "1    949   34       NaN                        A5  19-48 81ST STREET   \n",
            "2    949   37       NaN                        A5  19-54 81ST STREET   \n",
            "3    976   55       NaN                        A5  21-33 80TH STREET   \n",
            "4    976   60       NaN                        A5  21-23 80TH STREET   \n",
            "\n",
            "  APARTMENT NUMBER  ...  RESIDENTIAL UNITS  COMMERCIAL UNITS  TOTAL UNITS  \\\n",
            "0              NaN  ...                1.0               0.0            1   \n",
            "1              NaN  ...                1.0               0.0            1   \n",
            "2              NaN  ...                1.0               0.0            1   \n",
            "3              NaN  ...                1.0               0.0            1   \n",
            "4              NaN  ...                1.0               0.0            1   \n",
            "\n",
            "  LAND SQUARE FEET GROSS SQUARE FEET YEAR BUILT  TAX CLASS AT TIME OF SALE  \\\n",
            "0            1,800             1,224     1945.0                          1   \n",
            "1            1,799             1,224     1945.0                          1   \n",
            "2            1,799             1,224     1945.0                          1   \n",
            "3            1,799             1,224     1950.0                          1   \n",
            "4            1,800             1,224     1950.0                          1   \n",
            "\n",
            "   BUILDING CLASS AT TIME OF SALE SALE PRICE  SALE DATE  \n",
            "0                              A5    935,000  12/8/2021  \n",
            "1                              A5    864,195  7/15/2022  \n",
            "2                              A5    815,000  6/24/2022  \n",
            "3                              A5    830,000  9/23/2022  \n",
            "4                              A5    900,000   2/8/2022  \n",
            "\n",
            "[5 rows x 21 columns]\n"
          ]
        }
      ],
      "source": [
        "import pandas as pd\n",
        "import numpy as np\n",
        "import matplotlib.pyplot as plt\n",
        "from statistics import mean\n",
        "\n",
        "\n",
        "df = pd.read_csv('rollingsales_queens.csv')\n",
        "print(df.head())"
      ]
    },
    {
      "cell_type": "markdown",
      "source": [
        "●\tОчистити дані.\n",
        "Видалимо текстові змінні"
      ],
      "metadata": {
        "id": "bx1rIt-NoTsB"
      }
    },
    {
      "cell_type": "code",
      "source": [
        "del df['NEIGHBORHOOD']\n",
        "del df['BUILDING CLASS CATEGORY']\n",
        "del df['ADDRESS']\n",
        "del df['APARTMENT NUMBER']\n",
        "del df['BUILDING CLASS AT TIME OF SALE']\n",
        "del df['TAX CLASS AT PRESENT']\n",
        "print(df.head())"
      ],
      "metadata": {
        "colab": {
          "base_uri": "https://localhost:8080/"
        },
        "id": "dGYFfGY6oaE3",
        "outputId": "4f07792e-101b-42e8-81b5-1d8e8e3d5637"
      },
      "execution_count": 3,
      "outputs": [
        {
          "output_type": "stream",
          "name": "stdout",
          "text": [
            "   BOROUGH  BLOCK  LOT  EASEMENT BUILDING CLASS AT PRESENT  ZIP CODE  \\\n",
            "0        4    949   30       NaN                        A5   11370.0   \n",
            "1        4    949   34       NaN                        A5   11370.0   \n",
            "2        4    949   37       NaN                        A5   11370.0   \n",
            "3        4    976   55       NaN                        A5   11370.0   \n",
            "4        4    976   60       NaN                        A5   11370.0   \n",
            "\n",
            "   RESIDENTIAL UNITS  COMMERCIAL UNITS TOTAL UNITS LAND SQUARE FEET  \\\n",
            "0                1.0               0.0           1            1,800   \n",
            "1                1.0               0.0           1            1,799   \n",
            "2                1.0               0.0           1            1,799   \n",
            "3                1.0               0.0           1            1,799   \n",
            "4                1.0               0.0           1            1,800   \n",
            "\n",
            "  GROSS SQUARE FEET  YEAR BUILT  TAX CLASS AT TIME OF SALE SALE PRICE  \\\n",
            "0             1,224      1945.0                          1    935,000   \n",
            "1             1,224      1945.0                          1    864,195   \n",
            "2             1,224      1945.0                          1    815,000   \n",
            "3             1,224      1950.0                          1    830,000   \n",
            "4             1,224      1950.0                          1    900,000   \n",
            "\n",
            "   SALE DATE  \n",
            "0  12/8/2021  \n",
            "1  7/15/2022  \n",
            "2  6/24/2022  \n",
            "3  9/23/2022  \n",
            "4   2/8/2022  \n"
          ]
        }
      ]
    },
    {
      "cell_type": "markdown",
      "source": [
        "●\tВиконайте розвідувальний аналіз, щоб дізнатися, де є викиди або відсутні значення, вирішіть, як ви їх будете обробляти, переконайтеся, що дати відформатовані правильно, значення, які ви вважаєте числовими, розглядаються як такі і т.д."
      ],
      "metadata": {
        "id": "JUDCHP16oekW"
      }
    },
    {
      "cell_type": "code",
      "source": [
        "print('Пустих значень в колонках')\n",
        "print(df.isnull().sum())\n",
        "df['EASEMENT'] = df['EASEMENT'].fillna(0)\n",
        "df['BUILDING CLASS AT PRESENT'] = df['BUILDING CLASS AT PRESENT'].fillna(0)\n",
        "df['ZIP CODE'] = df['ZIP CODE'].fillna(0)\n",
        "df['RESIDENTIAL UNITS'] = df['RESIDENTIAL UNITS'].fillna(0)\n",
        "df['COMMERCIAL UNITS'] = df['COMMERCIAL UNITS'].fillna(0)\n",
        "df['TOTAL UNITS'] = df['TOTAL UNITS'].fillna(0)\n",
        "df['LAND SQUARE FEET'] = df['LAND SQUARE FEET'].fillna(0)\n",
        "df['GROSS SQUARE FEET'] = df['GROSS SQUARE FEET'].fillna(0)\n",
        "df['YEAR BUILT'] = df['YEAR BUILT'].fillna(0)\n",
        "\n",
        "print('Пустих значень в колонках')\n",
        "print(df.isnull().sum())\n",
        "\n",
        "del df['BUILDING CLASS AT PRESENT']\n",
        "print(df.info())\n",
        "\n",
        "del df['LAND SQUARE FEET']\n",
        "del df['TOTAL UNITS']\n",
        "del df['GROSS SQUARE FEET']\n",
        "del df['SALE PRICE']\n",
        "\n",
        "print(df.info())\n",
        "print(df.head())\n",
        "print(df.describe())\n",
        "\n",
        "a = []\n",
        "for i in range(len(df['YEAR BUILT'])):\n",
        "    if 1900 < df['YEAR BUILT'][i] <= 1930:\n",
        "        a.append('1900-1930')\n",
        "    elif 1930 < df['YEAR BUILT'][i] <= 1960:\n",
        "        a.append('1930-1960')\n",
        "    elif 1960 < df['YEAR BUILT'][i] <= 1990:\n",
        "        a.append('1960-1990')\n",
        "    elif 1990 < df['YEAR BUILT'][i] <= 2010:\n",
        "        a.append('1990-2010')\n",
        "    elif df['YEAR BUILT'][i] > 2010:\n",
        "        a.append('2010+')\n",
        "\n",
        "plt.title('Кількість житлових масивів в залежності від дати забудови')\n",
        "plt.hist(a)\n",
        "plt.show()"
      ],
      "metadata": {
        "colab": {
          "base_uri": "https://localhost:8080/",
          "height": 711
        },
        "id": "JCrr8jOJok9l",
        "outputId": "f7c12ecd-7926-49f3-9169-5a0d71704c1b"
      },
      "execution_count": 5,
      "outputs": [
        {
          "output_type": "stream",
          "name": "stdout",
          "text": [
            "Пустих значень в колонках\n",
            "BOROUGH                      0\n",
            "BLOCK                        0\n",
            "LOT                          0\n",
            "EASEMENT                     0\n",
            "ZIP CODE                     0\n",
            "RESIDENTIAL UNITS            0\n",
            "COMMERCIAL UNITS             0\n",
            "YEAR BUILT                   0\n",
            "TAX CLASS AT TIME OF SALE    0\n",
            "SALE DATE                    0\n",
            "dtype: int64\n"
          ]
        },
        {
          "output_type": "error",
          "ename": "KeyError",
          "evalue": "ignored",
          "traceback": [
            "\u001b[0;31m---------------------------------------------------------------------------\u001b[0m",
            "\u001b[0;31mKeyError\u001b[0m                                  Traceback (most recent call last)",
            "\u001b[0;32m/usr/local/lib/python3.7/dist-packages/pandas/core/indexes/base.py\u001b[0m in \u001b[0;36mget_loc\u001b[0;34m(self, key, method, tolerance)\u001b[0m\n\u001b[1;32m   3360\u001b[0m             \u001b[0;32mtry\u001b[0m\u001b[0;34m:\u001b[0m\u001b[0;34m\u001b[0m\u001b[0;34m\u001b[0m\u001b[0m\n\u001b[0;32m-> 3361\u001b[0;31m                 \u001b[0;32mreturn\u001b[0m \u001b[0mself\u001b[0m\u001b[0;34m.\u001b[0m\u001b[0m_engine\u001b[0m\u001b[0;34m.\u001b[0m\u001b[0mget_loc\u001b[0m\u001b[0;34m(\u001b[0m\u001b[0mcasted_key\u001b[0m\u001b[0;34m)\u001b[0m\u001b[0;34m\u001b[0m\u001b[0;34m\u001b[0m\u001b[0m\n\u001b[0m\u001b[1;32m   3362\u001b[0m             \u001b[0;32mexcept\u001b[0m \u001b[0mKeyError\u001b[0m \u001b[0;32mas\u001b[0m \u001b[0merr\u001b[0m\u001b[0;34m:\u001b[0m\u001b[0;34m\u001b[0m\u001b[0;34m\u001b[0m\u001b[0m\n",
            "\u001b[0;32m/usr/local/lib/python3.7/dist-packages/pandas/_libs/index.pyx\u001b[0m in \u001b[0;36mpandas._libs.index.IndexEngine.get_loc\u001b[0;34m()\u001b[0m\n",
            "\u001b[0;32m/usr/local/lib/python3.7/dist-packages/pandas/_libs/index.pyx\u001b[0m in \u001b[0;36mpandas._libs.index.IndexEngine.get_loc\u001b[0;34m()\u001b[0m\n",
            "\u001b[0;32mpandas/_libs/hashtable_class_helper.pxi\u001b[0m in \u001b[0;36mpandas._libs.hashtable.PyObjectHashTable.get_item\u001b[0;34m()\u001b[0m\n",
            "\u001b[0;32mpandas/_libs/hashtable_class_helper.pxi\u001b[0m in \u001b[0;36mpandas._libs.hashtable.PyObjectHashTable.get_item\u001b[0;34m()\u001b[0m\n",
            "\u001b[0;31mKeyError\u001b[0m: 'BUILDING CLASS AT PRESENT'",
            "\nThe above exception was the direct cause of the following exception:\n",
            "\u001b[0;31mKeyError\u001b[0m                                  Traceback (most recent call last)",
            "\u001b[0;32m<ipython-input-5-784b37d9250a>\u001b[0m in \u001b[0;36m<module>\u001b[0;34m\u001b[0m\n\u001b[1;32m      2\u001b[0m \u001b[0mprint\u001b[0m\u001b[0;34m(\u001b[0m\u001b[0mdf\u001b[0m\u001b[0;34m.\u001b[0m\u001b[0misnull\u001b[0m\u001b[0;34m(\u001b[0m\u001b[0;34m)\u001b[0m\u001b[0;34m.\u001b[0m\u001b[0msum\u001b[0m\u001b[0;34m(\u001b[0m\u001b[0;34m)\u001b[0m\u001b[0;34m)\u001b[0m\u001b[0;34m\u001b[0m\u001b[0;34m\u001b[0m\u001b[0m\n\u001b[1;32m      3\u001b[0m \u001b[0mdf\u001b[0m\u001b[0;34m[\u001b[0m\u001b[0;34m'EASEMENT'\u001b[0m\u001b[0;34m]\u001b[0m \u001b[0;34m=\u001b[0m \u001b[0mdf\u001b[0m\u001b[0;34m[\u001b[0m\u001b[0;34m'EASEMENT'\u001b[0m\u001b[0;34m]\u001b[0m\u001b[0;34m.\u001b[0m\u001b[0mfillna\u001b[0m\u001b[0;34m(\u001b[0m\u001b[0;36m0\u001b[0m\u001b[0;34m)\u001b[0m\u001b[0;34m\u001b[0m\u001b[0;34m\u001b[0m\u001b[0m\n\u001b[0;32m----> 4\u001b[0;31m \u001b[0mdf\u001b[0m\u001b[0;34m[\u001b[0m\u001b[0;34m'BUILDING CLASS AT PRESENT'\u001b[0m\u001b[0;34m]\u001b[0m \u001b[0;34m=\u001b[0m \u001b[0mdf\u001b[0m\u001b[0;34m[\u001b[0m\u001b[0;34m'BUILDING CLASS AT PRESENT'\u001b[0m\u001b[0;34m]\u001b[0m\u001b[0;34m.\u001b[0m\u001b[0mfillna\u001b[0m\u001b[0;34m(\u001b[0m\u001b[0;36m0\u001b[0m\u001b[0;34m)\u001b[0m\u001b[0;34m\u001b[0m\u001b[0;34m\u001b[0m\u001b[0m\n\u001b[0m\u001b[1;32m      5\u001b[0m \u001b[0mdf\u001b[0m\u001b[0;34m[\u001b[0m\u001b[0;34m'ZIP CODE'\u001b[0m\u001b[0;34m]\u001b[0m \u001b[0;34m=\u001b[0m \u001b[0mdf\u001b[0m\u001b[0;34m[\u001b[0m\u001b[0;34m'ZIP CODE'\u001b[0m\u001b[0;34m]\u001b[0m\u001b[0;34m.\u001b[0m\u001b[0mfillna\u001b[0m\u001b[0;34m(\u001b[0m\u001b[0;36m0\u001b[0m\u001b[0;34m)\u001b[0m\u001b[0;34m\u001b[0m\u001b[0;34m\u001b[0m\u001b[0m\n\u001b[1;32m      6\u001b[0m \u001b[0mdf\u001b[0m\u001b[0;34m[\u001b[0m\u001b[0;34m'RESIDENTIAL UNITS'\u001b[0m\u001b[0;34m]\u001b[0m \u001b[0;34m=\u001b[0m \u001b[0mdf\u001b[0m\u001b[0;34m[\u001b[0m\u001b[0;34m'RESIDENTIAL UNITS'\u001b[0m\u001b[0;34m]\u001b[0m\u001b[0;34m.\u001b[0m\u001b[0mfillna\u001b[0m\u001b[0;34m(\u001b[0m\u001b[0;36m0\u001b[0m\u001b[0;34m)\u001b[0m\u001b[0;34m\u001b[0m\u001b[0;34m\u001b[0m\u001b[0m\n",
            "\u001b[0;32m/usr/local/lib/python3.7/dist-packages/pandas/core/frame.py\u001b[0m in \u001b[0;36m__getitem__\u001b[0;34m(self, key)\u001b[0m\n\u001b[1;32m   3456\u001b[0m             \u001b[0;32mif\u001b[0m \u001b[0mself\u001b[0m\u001b[0;34m.\u001b[0m\u001b[0mcolumns\u001b[0m\u001b[0;34m.\u001b[0m\u001b[0mnlevels\u001b[0m \u001b[0;34m>\u001b[0m \u001b[0;36m1\u001b[0m\u001b[0;34m:\u001b[0m\u001b[0;34m\u001b[0m\u001b[0;34m\u001b[0m\u001b[0m\n\u001b[1;32m   3457\u001b[0m                 \u001b[0;32mreturn\u001b[0m \u001b[0mself\u001b[0m\u001b[0;34m.\u001b[0m\u001b[0m_getitem_multilevel\u001b[0m\u001b[0;34m(\u001b[0m\u001b[0mkey\u001b[0m\u001b[0;34m)\u001b[0m\u001b[0;34m\u001b[0m\u001b[0;34m\u001b[0m\u001b[0m\n\u001b[0;32m-> 3458\u001b[0;31m             \u001b[0mindexer\u001b[0m \u001b[0;34m=\u001b[0m \u001b[0mself\u001b[0m\u001b[0;34m.\u001b[0m\u001b[0mcolumns\u001b[0m\u001b[0;34m.\u001b[0m\u001b[0mget_loc\u001b[0m\u001b[0;34m(\u001b[0m\u001b[0mkey\u001b[0m\u001b[0;34m)\u001b[0m\u001b[0;34m\u001b[0m\u001b[0;34m\u001b[0m\u001b[0m\n\u001b[0m\u001b[1;32m   3459\u001b[0m             \u001b[0;32mif\u001b[0m \u001b[0mis_integer\u001b[0m\u001b[0;34m(\u001b[0m\u001b[0mindexer\u001b[0m\u001b[0;34m)\u001b[0m\u001b[0;34m:\u001b[0m\u001b[0;34m\u001b[0m\u001b[0;34m\u001b[0m\u001b[0m\n\u001b[1;32m   3460\u001b[0m                 \u001b[0mindexer\u001b[0m \u001b[0;34m=\u001b[0m \u001b[0;34m[\u001b[0m\u001b[0mindexer\u001b[0m\u001b[0;34m]\u001b[0m\u001b[0;34m\u001b[0m\u001b[0;34m\u001b[0m\u001b[0m\n",
            "\u001b[0;32m/usr/local/lib/python3.7/dist-packages/pandas/core/indexes/base.py\u001b[0m in \u001b[0;36mget_loc\u001b[0;34m(self, key, method, tolerance)\u001b[0m\n\u001b[1;32m   3361\u001b[0m                 \u001b[0;32mreturn\u001b[0m \u001b[0mself\u001b[0m\u001b[0;34m.\u001b[0m\u001b[0m_engine\u001b[0m\u001b[0;34m.\u001b[0m\u001b[0mget_loc\u001b[0m\u001b[0;34m(\u001b[0m\u001b[0mcasted_key\u001b[0m\u001b[0;34m)\u001b[0m\u001b[0;34m\u001b[0m\u001b[0;34m\u001b[0m\u001b[0m\n\u001b[1;32m   3362\u001b[0m             \u001b[0;32mexcept\u001b[0m \u001b[0mKeyError\u001b[0m \u001b[0;32mas\u001b[0m \u001b[0merr\u001b[0m\u001b[0;34m:\u001b[0m\u001b[0;34m\u001b[0m\u001b[0;34m\u001b[0m\u001b[0m\n\u001b[0;32m-> 3363\u001b[0;31m                 \u001b[0;32mraise\u001b[0m \u001b[0mKeyError\u001b[0m\u001b[0;34m(\u001b[0m\u001b[0mkey\u001b[0m\u001b[0;34m)\u001b[0m \u001b[0;32mfrom\u001b[0m \u001b[0merr\u001b[0m\u001b[0;34m\u001b[0m\u001b[0;34m\u001b[0m\u001b[0m\n\u001b[0m\u001b[1;32m   3364\u001b[0m \u001b[0;34m\u001b[0m\u001b[0m\n\u001b[1;32m   3365\u001b[0m         \u001b[0;32mif\u001b[0m \u001b[0mis_scalar\u001b[0m\u001b[0;34m(\u001b[0m\u001b[0mkey\u001b[0m\u001b[0;34m)\u001b[0m \u001b[0;32mand\u001b[0m \u001b[0misna\u001b[0m\u001b[0;34m(\u001b[0m\u001b[0mkey\u001b[0m\u001b[0;34m)\u001b[0m \u001b[0;32mand\u001b[0m \u001b[0;32mnot\u001b[0m \u001b[0mself\u001b[0m\u001b[0;34m.\u001b[0m\u001b[0mhasnans\u001b[0m\u001b[0;34m:\u001b[0m\u001b[0;34m\u001b[0m\u001b[0;34m\u001b[0m\u001b[0m\n",
            "\u001b[0;31mKeyError\u001b[0m: 'BUILDING CLASS AT PRESENT'"
          ]
        }
      ]
    },
    {
      "cell_type": "markdown",
      "source": [
        "●\tЗберіть висновки у невеликий звіт для генерального директора (графіки, висновки з текстом у окремому файлі), який потребує належного оформлення висновків, структури тощо.\n",
        "Отже, на жаль, бачимо що найбільша категорія житлових масивів – це ті, що збудовані в 1930-1960рр. Але треба зазначити, що вже зараз категорія нових житлових масивів (2010+) «набирає оберти» та випереджає попередню категорію (1990-2010), хоча проміжок часу менший. Тому можна сподіватися на швидкі забудови і інвестувати гроші.\n"
      ],
      "metadata": {
        "id": "gKQ5FHu7pHT_"
      }
    }
  ]
}