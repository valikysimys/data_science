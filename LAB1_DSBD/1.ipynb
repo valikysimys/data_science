{
  "nbformat": 4,
  "nbformat_minor": 0,
  "metadata": {
    "colab": {
      "provenance": [],
      "collapsed_sections": []
    },
    "kernelspec": {
      "name": "python3",
      "display_name": "Python 3"
    },
    "language_info": {
      "name": "python"
    }
  },
  "cells": [
    {
      "cell_type": "markdown",
      "source": [],
      "metadata": {
        "id": "oyAbfLJZj9qn"
      }
    },
    {
      "cell_type": "markdown",
      "source": [
        "•\tЗавантажити файли з даними у папку проекту з посилання:\n",
        "https://github.com/oreillymedia/doing_data_science"
      ],
      "metadata": {
        "id": "YsMqUhesj_XJ"
      }
    },
    {
      "cell_type": "code",
      "execution_count": 1,
      "metadata": {
        "colab": {
          "base_uri": "https://localhost:8080/"
        },
        "id": "KJ3s6cSijmAf",
        "outputId": "fcfcbe6c-95c5-4834-ec29-d2714122f07f"
      },
      "outputs": [
        {
          "output_type": "stream",
          "name": "stdout",
          "text": [
            "   Age  Gender  Impressions  Clicks  Signed_In\n",
            "0   59       1            4       0          1\n",
            "1    0       0            7       1          0\n",
            "2   19       0            5       0          1\n",
            "3   44       1            5       0          1\n",
            "4   30       1            4       0          1\n"
          ]
        }
      ],
      "source": [
        "import pandas as pd\n",
        "import numpy as np\n",
        "import matplotlib.pyplot as plt\n",
        "from statistics import mean\n",
        "\n",
        "\n",
        "df = pd.read_csv('nyt10.csv')\n",
        "print(df.head())"
      ]
    },
    {
      "cell_type": "markdown",
      "source": [
        "•  Створіть нову змінну age_group, яка агрегує користувачів як <18, 18–24, 25–34, 35–44, 45–54, 55–64 та 65+."
      ],
      "metadata": {
        "id": "MyfH-LsbkWL3"
      }
    },
    {
      "cell_type": "code",
      "source": [
        "df['age_group'] = np.zeros(len(df['Age']))\n",
        "pd.options.mode.chained_assignment = None\n",
        "\n",
        "a = []\n",
        "a_male = 0\n",
        "a_female = 0\n",
        "\n",
        "signed_in = []\n",
        "unsigned = []\n",
        "\n",
        "for i in range(0, len(df['Age'])):\n",
        "    if df['Age'][i] < 18:\n",
        "        df['age_group'][i] = 1\n",
        "    elif 18 <= df['Age'][i] < 24:\n",
        "        df['age_group'][i] = 2\n",
        "        a.append(df['Gender'][i])\n",
        "        if df['Gender'][i] == 0:\n",
        "            a_female += 1\n",
        "        else:\n",
        "            a_male += 1\n",
        "    elif 25 <= df['Age'][i] < 34:\n",
        "        df['age_group'][i] = 3\n",
        "    elif 35 <= df['Age'][i] < 44:\n",
        "        df['age_group'][i] = 4\n",
        "    elif 45 <= df['Age'][i] < 54:\n",
        "        df['age_group'][i] = 5\n",
        "    elif 55 <= df['Age'][i] < 64:\n",
        "        df['age_group'][i] = 6\n",
        "    else:\n",
        "        df['age_group'][i] = 7\n",
        "    if df['Signed_In'][i] == 1:\n",
        "        signed_in.append(df['Age'][i])\n",
        "    else:\n",
        "        unsigned.append(df['Age'][i])\n",
        "\n",
        "print(df.head())"
      ],
      "metadata": {
        "colab": {
          "base_uri": "https://localhost:8080/"
        },
        "id": "K5C9epb_kZS5",
        "outputId": "1499ae71-4846-46c5-94d1-68dcadd12ef5"
      },
      "execution_count": 2,
      "outputs": [
        {
          "output_type": "stream",
          "name": "stdout",
          "text": [
            "   Age  Gender  Impressions  Clicks  Signed_In  age_group\n",
            "0   59       1            4       0          1        6.0\n",
            "1    0       0            7       1          0        1.0\n",
            "2   19       0            5       0          1        2.0\n",
            "3   44       1            5       0          1        7.0\n",
            "4   30       1            4       0          1        3.0\n"
          ]
        }
      ]
    },
    {
      "cell_type": "markdown",
      "source": [
        "•\tЗафіксуйте на діаграмі кількість показів та показник переходів (CTR = #clicks/#inmpressions) для цих шести\n",
        "вікових категорій"
      ],
      "metadata": {
        "id": "7MC9y6bfkdFY"
      }
    },
    {
      "cell_type": "code",
      "source": [
        "plt.title('Розподіл за віковими групами')\n",
        "plt.hist(df['age_group'])\n",
        "plt.show()"
      ],
      "metadata": {
        "colab": {
          "base_uri": "https://localhost:8080/",
          "height": 281
        },
        "id": "1JCtzzN2kfo8",
        "outputId": "ca8ea0c3-0a44-49b6-dedb-ae2875677730"
      },
      "execution_count": 3,
      "outputs": [
        {
          "output_type": "display_data",
          "data": {
            "text/plain": [
              "<Figure size 432x288 with 1 Axes>"
            ],
            "image/png": "[encoded data removed]"
          },
          "metadata": {
            "needs_background": "light"
          }
        }
      ]
    },
    {
      "cell_type": "markdown",
      "source": [
        "•\tВивчіть дані та проведіть візуальні та кількісні порівняння між сегментами користувачів/демографічними групами (наприклад, чоловіки старше 18 років у порівнянні з жінками старше 18 років або авторизовані та неавторизовані користувачі)."
      ],
      "metadata": {
        "id": "1iWJ0XtVkh-T"
      }
    },
    {
      "cell_type": "code",
      "source": [
        "print(f\"Жінок у віці від 18 до 24 років {a_female}, чоловіків {a_male}\")\n",
        "plt.title('0 - жінки, 1 - чоловіки')\n",
        "plt.hist(a)\n",
        "plt.show()"
      ],
      "metadata": {
        "colab": {
          "base_uri": "https://localhost:8080/",
          "height": 298
        },
        "id": "HlJSfxybkkOO",
        "outputId": "2b6278ed-cd42-4359-c228-6eabb6494766"
      },
      "execution_count": 4,
      "outputs": [
        {
          "output_type": "stream",
          "name": "stdout",
          "text": [
            "Жінок у віці від 18 до 24 років 17600, чоловіків 19681\n"
          ]
        },
        {
          "output_type": "display_data",
          "data": {
            "text/plain": [
              "<Figure size 432x288 with 1 Axes>"
            ],
            "image/png": "[encoded data removed]"
          },
          "metadata": {
            "needs_background": "light"
          }
        }
      ]
    },
    {
      "cell_type": "markdown",
      "source": [
        "•\tСтворіть метрики/вимірювання/статистику, які підсумовують дані. Приклади можливих метрик включають CTR, \n",
        "квантил, середнє значення, медіану, дисперсію та максимальне значення. Ці показники потрібно розрахувати за \n",
        "різними сегментами користувачів. Подумайте про елементи, які важливо відстежувати з часом - що стискає дані, \n",
        "але, як і раніше, захоплює поведінку користувача."
      ],
      "metadata": {
        "id": "j09lVdLVkmav"
      }
    },
    {
      "cell_type": "code",
      "source": [
        "print('Для зареєстрованих користувачів')\n",
        "print(f'Середнє значення віку {mean(signed_in)}, квантиль віку {np.quantile(signed_in, 0.25)}, дисперсія віку {np.var(signed_in)}')\n",
        "\n",
        "print('Для не зареєстрованих користувачів')\n",
        "print(f'Середнє значення віку {mean(unsigned)}, квантиль віку {np.quantile(unsigned, 0.25)}, дисперсія віку {np.var(unsigned)}')"
      ],
      "metadata": {
        "colab": {
          "base_uri": "https://localhost:8080/"
        },
        "id": "xSKcz1yVko-_",
        "outputId": "e357c224-c4a9-4d76-c6fc-36c7335aaf5f"
      },
      "execution_count": 6,
      "outputs": [
        {
          "output_type": "stream",
          "name": "stdout",
          "text": [
            "Для зареєстрованих користувачів\n",
            "Середнє значення віку 42, квантиль віку 29.0, дисперсія віку 267.05397874007014\n",
            "Для не зареєстрованих користувачів\n",
            "Середнє значення віку 0, квантиль віку 0.0, дисперсія віку 0.0\n"
          ]
        }
      ]
    },
    {
      "cell_type": "markdown",
      "source": [
        "•\tРезультати статистичного дослідження подати у вигляді результуючого ДатаФрейма (одного), дивлячись на який можна зрозуміти і порівнювати дані за віковими підкатегоріями."
      ],
      "metadata": {
        "id": "eBZlk07RkrSq"
      }
    },
    {
      "cell_type": "code",
      "source": [
        "df.to_csv('new_10.csv')"
      ],
      "metadata": {
        "id": "tvxaZiwcktDA"
      },
      "execution_count": null,
      "outputs": []
    },
    {
      "cell_type": "markdown",
      "source": [
        "Бачимо, що найбільша вікова група – до 18 років, майже в 2 рази перебільшує інші. У 2гій віковій категорії від 18 до 24 бачимо,\n",
        "що великої переваги немає, але чоловіків трохи більше. За статистичними характеристиками можемо зрозуміти, що середній вік \n",
        "зареєстрованої людини 42р, а не зареєстрованої визначити не вдалось, бо, проаналізувавши дані бачимо такі записи, які рахуються в статистику, але викривляють її."
      ],
      "metadata": {
        "id": "WlFJW3cekuyY"
      }
    }
  ]
}